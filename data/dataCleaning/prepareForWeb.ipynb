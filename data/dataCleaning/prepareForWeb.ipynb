{
 "cells": [
  {
   "cell_type": "code",
   "execution_count": 2,
   "metadata": {},
   "outputs": [],
   "source": [
    "import pandas as pd\n",
    "\n",
    "\n",
    "def clean_data(df):\n",
    "    df = df[\n",
    "        [\n",
    "            \"Case Number\",\n",
    "            \"Year\",\n",
    "            \"Country\",\n",
    "            \"Area\",\n",
    "            \"Fatal(Y/N)\",\n",
    "            \"Species\",\n",
    "            \"latitude\",\n",
    "            \"longitude\",\n",
    "        ]\n",
    "    ]\n",
    "    df = df.rename(\n",
    "        columns={\n",
    "            \"Case Number\": \"caseNumber\",\n",
    "            \"Year\": \"year\",\n",
    "            \"Country\": \"country\",\n",
    "            \"Area\": \"area\",\n",
    "            \"Fatal(Y/N)\": \"isFatal\",\n",
    "            \"Species\": \"species\",\n",
    "        }\n",
    "    )\n",
    "\n",
    "    df[\"isFatal\"] = df[\"isFatal\"] == \"Y\"\n",
    "    return df\n",
    "\n",
    "\n",
    "df = pd.read_csv(\n",
    "    \"./sharks_cleaned.csv\",\n",
    "    engine=\"pyarrow\",\n",
    ")\n",
    "\n",
    "df_clean = clean_data(df.copy())\n",
    "df_clean.to_json(\"./sharksAttacks.json\", orient=\"records\")"
   ]
  }
 ],
 "metadata": {
  "kernelspec": {
   "display_name": "base",
   "language": "python",
   "name": "python3"
  },
  "language_info": {
   "codemirror_mode": {
    "name": "ipython",
    "version": 3
   },
   "file_extension": ".py",
   "mimetype": "text/x-python",
   "name": "python",
   "nbconvert_exporter": "python",
   "pygments_lexer": "ipython3",
   "version": "3.9.5"
  }
 },
 "nbformat": 4,
 "nbformat_minor": 2
}
