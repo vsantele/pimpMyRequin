{
 "cells": [
  {
   "cell_type": "code",
   "execution_count": 1,
   "metadata": {},
   "outputs": [],
   "source": [
    "import pandas as pd"
   ]
  },
  {
   "cell_type": "code",
   "execution_count": 2,
   "metadata": {},
   "outputs": [],
   "source": [
    "def clean_data(df):\n",
    "    df = df[\n",
    "        [\n",
    "            \"Case Number\",\n",
    "            \"Year\",\n",
    "            \"Country\",\n",
    "            \"Area\",\n",
    "            \"Fatal(Y/N)\",\n",
    "            \"Species\",\n",
    "            \"latitude\",\n",
    "            \"longitude\",\n",
    "        ]\n",
    "    ]\n",
    "    df = df.rename(\n",
    "        columns={\n",
    "            \"Case Number\": \"caseNumber\",\n",
    "            \"Year\": \"year\",\n",
    "            \"Country\": \"country\",\n",
    "            \"Area\": \"area\",\n",
    "            \"Fatal(Y/N)\": \"isFatal\",\n",
    "            \"Species\": \"species\",\n",
    "        }\n",
    "    )\n",
    "\n",
    "    df[\"isFatal\"] = df[\"isFatal\"] == \"Y\"\n",
    "    return df\n",
    "\n",
    "\n",
    "df = pd.read_csv(\n",
    "    \"./sharks_cleaned.csv\",\n",
    "    engine=\"pyarrow\",\n",
    ")\n",
    "\n",
    "df_clean = clean_data(df.copy())\n",
    "df_clean.to_json(\"../../src/assets/sharksAttacks.json\", orient=\"records\")"
   ]
  },
  {
   "cell_type": "code",
   "execution_count": 3,
   "metadata": {},
   "outputs": [],
   "source": [
    "df_prop = pd.read_csv(\"./sharks_individuals.csv\", engine=\"pyarrow\")\n",
    "df_prop = df_prop.rename(\n",
    "    columns={\n",
    "        \"case_number\": \"cn\",\n",
    "        \"species\": \"s\",\n",
    "        \"nez_taille_oeil\": \"nto\",\n",
    "        \"nez_longueur_museau\": \"nlom\",\n",
    "        \"nez_largeur_museau\": \"nlam\",\n",
    "        \"nez_epaisseur\": \"ne\",\n",
    "        \"gueule_taille_dent\": \"gtd\",\n",
    "        \"gueule_ecart_machoire\": \"gem\",\n",
    "        \"aileronHaut_longueur\": \"ahlo\",\n",
    "        \"aileronHaut_largeur\": \"ahla\",\n",
    "        \"tronc_longueur\": \"tlp\",\n",
    "        \"tronc_epaisseur\": \"te\",\n",
    "        \"tronc_largeur\": \"tla\",\n",
    "        \"aileronBas_longueur\": \"ablo\",\n",
    "        \"aileronBas_largeur\": \"abla\",\n",
    "        \"queue_taille_aileron\": \"qta\",\n",
    "        \"queue_longueur\": \"qlo\",\n",
    "        \"aileronArriere_longueur\": \"aalo\",\n",
    "        \"aileronArriere_largeur\": \"aala\",\n",
    "        \"bas_longueur\": \"blo\",\n",
    "        \"bas_epaisseur\": \"be\",\n",
    "        \"bas_largeur\": \"bla\",\n",
    "    }\n",
    ")\n",
    "df_prop.head()\n",
    "df_prop.to_json(\"../../src/assets/sharksProperties.json\", orient=\"records\")"
   ]
  },
  {
   "cell_type": "code",
   "execution_count": null,
   "metadata": {},
   "outputs": [],
   "source": []
  }
 ],
 "metadata": {
  "kernelspec": {
   "display_name": "base",
   "language": "python",
   "name": "python3"
  },
  "language_info": {
   "codemirror_mode": {
    "name": "ipython",
    "version": 3
   },
   "file_extension": ".py",
   "mimetype": "text/x-python",
   "name": "python",
   "nbconvert_exporter": "python",
   "pygments_lexer": "ipython3",
   "version": "3.9.5"
  }
 },
 "nbformat": 4,
 "nbformat_minor": 2
}
